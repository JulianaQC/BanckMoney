{
 "cells": [
  {
   "cell_type": "markdown",
   "id": "dd70dc1d",
   "metadata": {},
   "source": [
    "### Depósitos a plazo fijo"
   ]
  },
  {
   "cell_type": "code",
   "execution_count": 5,
   "id": "c8a77db9",
   "metadata": {},
   "outputs": [],
   "source": [
    "import pandas as pd\n",
    "import numpy as np\n",
    "import matplotlib.pyplot as ptl\n",
    "import seaborn as sns\n",
    "from urllib.request import urlopen\n",
    "from bs4 import BeautifulSoup as soup\n",
    "import requests"
   ]
  },
  {
   "cell_type": "markdown",
   "id": "021e492f",
   "metadata": {},
   "source": [
    "## Prueba usuario"
   ]
  },
  {
   "cell_type": "code",
   "execution_count": 102,
   "id": "004d5008",
   "metadata": {},
   "outputs": [
    {
     "name": "stdout",
     "output_type": "stream",
     "text": [
      "Hola, ¿Cuál es tu nombre?: Juli\n",
      "Mucho gusto Juli\n",
      "*--------BankMoney te da la bienvenida----------*\n",
      "Tenemos las siguientes operaciones:\n",
      "1. Cambio de divisas\n",
      "2. Préstamo personal\n",
      "3. Depósito a plazo fijo\n",
      "Selecciona una ingresando el número correspondiente: 3\n",
      "¿Con qué monto dispone para la operación?: 1000\n"
     ]
    }
   ],
   "source": [
    "nm = input(str(\"Hola, ¿Cuál es tu nombre?: \"))\n",
    "print(\"Mucho gusto\", nm)\n",
    "print(\"*--------BankMoney te da la bienvenida----------*\")\n",
    "print(\"Tenemos las siguientes operaciones:\")\n",
    "print(\"1. Cambio de divisas\")\n",
    "print(\"2. Préstamo personal\")\n",
    "print(\"3. Depósito a plazo fijo\")\n",
    "op = input(str(\"Selecciona una ingresando el número correspondiente: \"))\n",
    "mo = input(str(\"¿Con qué monto dispone para la operación?: \"))"
   ]
  },
  {
   "cell_type": "code",
   "execution_count": 112,
   "id": "74bdccd0",
   "metadata": {},
   "outputs": [
    {
     "name": "stdout",
     "output_type": "stream",
     "text": [
      "Hola  Juli , gracias por confiar en BankMoney para aconsejarte en tu aventura financiera.\n",
      "Para el depósito a plazo fijo que deseas hacer te recomendamos  Caja Huancayo\n",
      "que te ofrece  8.75 % de TREA anual\n",
      "por lo cual de invertir s/ 1000 estarías recibiendo s/ 1087.5\n"
     ]
    }
   ],
   "source": [
    "if op == 1:\n",
    "    \n",
    "if op == 2:\n",
    "    \n",
    "\n",
    "if float(op) == 3:\n",
    "    # Scotiabank\n",
    "    url=\"https://www.scotiabank.com.pe/Personas/Ahorros/otros/gratificacion\"\n",
    "    uclient=urlopen(url)\n",
    "    pagehtml=uclient.read()\n",
    "    uclient.close()\n",
    "    dt_sc = pagehtml.decode()\n",
    "    result_sc = re.findall('Plazo de hasta (\\d\\.\\d)%<', dt_sc)\n",
    "    # Caja Huancayo\n",
    "    url=\"https://www.cajahuancayo.com.pe/PCM_Noticias/PCM_frmDetCampanias.aspx?cCodCamPub=C0088&cCodigo=84\"\n",
    "    uclient=urlopen(url)\n",
    "    pagehtml=uclient.read()\n",
    "    uclient.close()\n",
    "    dt_ch = pagehtml.decode()\n",
    "    result_ch = re.findall('PLAZO FIJO HASTA (\\d\\.\\d\\d)%', dt_ch)\n",
    "    # BBVA\n",
    "    url=\"https://www.bbva.pe/personas/productos/inversiones/depositos/deposito-plazo.html#tasas-e-intereses\"\n",
    "    uclient=urlopen(url)\n",
    "    pagehtml=uclient.read()\n",
    "    uclient.close()\n",
    "    dt_ba = pagehtml.decode()\n",
    "    result_ba = re.findall('Hasta (\\d)%', dt_ba)\n",
    "    trea=[float(result_sc[0]),float(result_ch[0]),float(result_ba[0])]\n",
    "    Dep_Fijo={\"Entidad\":[\"Scotiabank\", \"Caja Huancayo\", \"BBVA\"], \"TREA %\" :trea }\n",
    "    DFF=pd.DataFrame(Dep_Fijo)\n",
    "    DFF_ord=DFF.sort_values(by=['TREA %'])\n",
    "    #print(DFF_ord.iloc[-1]) #Recomendación\n",
    "    #type(float(DFF_ord.iloc[0].iloc[1])) #Para la operación\n",
    "    print(\"Hola \",nm, \", gracias por confiar en BankMoney para aconsejarte en tu aventura financiera.\")\n",
    "    print(\"Para el depósito a plazo fijo que deseas hacer te recomendamos \", DFF_ord.iloc[-1].iloc[0])\n",
    "    print(\"que te ofrece \", float(DFF_ord.iloc[-1].iloc[1]),\"% de TREA anual\")\n",
    "    print(\"por lo cual de invertir s/\", mo,\"estarías recibiendo s/\", (float(mo)+0.01*float(mo)*(float(DFF_ord.iloc[-1].iloc[1]))))\n",
    "    "
   ]
  },
  {
   "cell_type": "code",
   "execution_count": 114,
   "id": "6d3525d8",
   "metadata": {},
   "outputs": [
    {
     "data": {
      "text/plain": [
       "'Caja Huancayo'"
      ]
     },
     "execution_count": 114,
     "metadata": {},
     "output_type": "execute_result"
    }
   ],
   "source": [
    "DFF_ord.iloc[-1].iloc[0\n",
    "                     ]"
   ]
  },
  {
   "cell_type": "markdown",
   "id": "f434c65e",
   "metadata": {},
   "source": [
    "## Guardando información en csv."
   ]
  },
  {
   "cell_type": "code",
   "execution_count": null,
   "id": "4c0955f8",
   "metadata": {},
   "outputs": [],
   "source": [
    "# [1] Información webscrapeada sobre cambio de divisas\n",
    "\n",
    "# [2] Información webscrapeada sobre préstamo personal\n",
    "\n",
    "# [3] Información webscrapeada sobre depósito a plazo fijo\n",
    "DFF_ord.to_csv('Dep_f.csv', sep = \";\" , encoding = \"utf-8\", index=False)"
   ]
  },
  {
   "cell_type": "code",
   "execution_count": null,
   "id": "6e9ca0cf",
   "metadata": {},
   "outputs": [],
   "source": []
  },
  {
   "cell_type": "markdown",
   "id": "b882c1df",
   "metadata": {},
   "source": [
    "# Códigos de prueba >>>>>>"
   ]
  },
  {
   "cell_type": "code",
   "execution_count": null,
   "id": "19d0fa00",
   "metadata": {},
   "outputs": [],
   "source": [
    "def calcular_cuota_mensual(monto_inicial, tasa, plazo):\n",
    "    # Calcular el interés total\n",
    "    i = monto_inicial * (tasa / 100)\n",
    "    \n",
    "    # Calcular el monto final\n",
    "    monto_final = monto_inicial + i\n",
    "    \n",
    "    # Calcular la cuota mensual\n",
    "    cuota = monto_final / plazo\n",
    "    \n",
    "    return cuota\n",
    "\n",
    "# Función para obtener la tasa de interés de un banco dado una lista de datos y una expresión regular\n",
    "def obtener_tasa_interes(data, regex):\n",
    "    if data.startswith(\"http\"):\n",
    "        # Si data es una URL, obtenemos el contenido de la página web\n",
    "        try:\n",
    "            response = requests.get(data)\n",
    "            response.raise_for_status()\n",
    "            data = response.text\n",
    "        except requests.exceptions.RequestException as e:\n",
    "            print(f\"No se pudo acceder a la página web: {e}\")\n",
    "            return None\n",
    "\n",
    "    tasa = re.findall(regex, data)\n",
    "    if tasa:\n",
    "        return float(tasa[0])\n",
    "    else:\n",
    "        return None\n",
    "\n",
    "# Datos de los bancos y sus URLs\n",
    "bancos = {\n",
    "    \"Interbank\": {\n",
    "        \"url\": \"https://interbank.pe/solicitar/prestamo/efectivo/inicio?pcid=home:productos-para-ti:producto-2:prestamo\",\n",
    "        \"regex\": r\"TCEA\\sMáxima:\\s([\\d.]+)%\"\n",
    "    },\n",
    "    \"BCP\": {\n",
    "        \"data\": \"Tasa de interés: 87.5%\", \n",
    "        \"regex\": r\"Tasa de interés:\\s([\\d.]+)%\"\n",
    "    },\n",
    "    \"BanBif\": {\n",
    "        \"url\": \"https://www.banbif.com.pe/PrestamosClick\",\n",
    "        \"regex\": r\"TEA de (\\d+\\.\\d+)%\"\n",
    "    }\n",
    "}\n",
    "\n",
    "# Crear el objeto driver para acceder a la página web del BCP\n",
    "options = webdriver.ChromeOptions()\n",
    "options.add_argument('--start-maximized')\n",
    "options.add_argument('--disable-extensions')\n",
    "driver_path = 'C:/Users/jimen/Downloads/chromedriver.exe'\n",
    "driver = webdriver.Chrome(options=options)\n",
    "driver.get('https://www.viabcp.com/creditos/credito-efectivo/prestamo-personal-bcp?rfid=header:productos:prestamo-personal:prestamos')\n",
    "WebDriverWait(driver, 15).until(EC.element_to_be_clickable((By.CSS_SELECTOR, 'button.bcp_btn_aceptar.bcp_boton_naranja'))).click()\n",
    "WebDriverWait(driver, 20).until(EC.element_to_be_clickable((By.XPATH, '/html/body/div[1]/div/div[3]/div/div[2]/div/div[4]/section/div[2]/main/div/div/div[2]/div[2]/div[1]/div[1]/ul[6]/li[1]/span[2]/span')))\n",
    "texto_element = driver.find_element(By.XPATH, '/html/body/div[1]/div/div[3]/div/div[2]/div/div[4]/section/div[2]/main/div/div/div[2]/div[2]/div[1]/div[1]/ul[6]/li[1]/span[2]/span')\n",
    "texto = texto_element.text\n",
    "\n",
    "# Cerrar el navegador después de obtener el texto\n",
    "driver.quit()\n",
    "\n",
    "# Solicitar el monto al usuario\n",
    "plazo = 12"
   ]
  },
  {
   "cell_type": "code",
   "execution_count": 70,
   "id": "eb772c3f",
   "metadata": {},
   "outputs": [
    {
     "name": "stdout",
     "output_type": "stream",
     "text": [
      "Hola  Juliana , gracias por confiar en BankMoney para aconsejarte en tu aventura financiera.\n"
     ]
    }
   ],
   "source": [
    "print(\"Hola \",nm, \", gracias por confiar en BankMoney para aconsejarte en tu aventura financiera.\")\n",
    "print(\"Para [Operación] que deseas hacer te recomendamos [Nombre de entidad banco/caja/etc]\")\n",
    "print(\"que te ofrece [Tipo de cambio/Interés/etc] \")\n",
    "print(\"por lo cual de invertir [Monto] estarías recibiendo [Operación según corresponda el tipo de operación].\")"
   ]
  },
  {
   "cell_type": "code",
   "execution_count": 44,
   "id": "b71f1e4e",
   "metadata": {},
   "outputs": [
    {
     "name": "stdout",
     "output_type": "stream",
     "text": [
      "<class 'str'>\n",
      "8.1\n"
     ]
    }
   ],
   "source": [
    "# Scotiabank\n",
    "url=\"https://www.scotiabank.com.pe/Personas/Ahorros/otros/gratificacion\"\n",
    "uclient=urlopen(url)\n",
    "pagehtml=uclient.read()\n",
    "uclient.close()\n",
    "\n",
    "dt_sc = pagehtml.decode()\n",
    "print(type(dt_sc))\n",
    "result_sc = re.findall('Plazo de hasta (\\d\\.\\d)%<', dt_sc)\n",
    "print (float (result_sc[0]))"
   ]
  },
  {
   "cell_type": "code",
   "execution_count": 45,
   "id": "70f24b8c",
   "metadata": {},
   "outputs": [
    {
     "name": "stdout",
     "output_type": "stream",
     "text": [
      "<class 'str'>\n",
      "8.75\n"
     ]
    }
   ],
   "source": [
    "# Caja Huancayo\n",
    "url=\"https://www.cajahuancayo.com.pe/PCM_Noticias/PCM_frmDetCampanias.aspx?cCodCamPub=C0088&cCodigo=84\"\n",
    "uclient=urlopen(url)\n",
    "pagehtml=uclient.read()\n",
    "uclient.close()\n",
    "\n",
    "dt_ch = pagehtml.decode()\n",
    "#print(dt_ch)\n",
    "print(type(dt_ch))\n",
    "result_ch = re.findall('PLAZO FIJO HASTA (\\d\\.\\d\\d)%', dt_ch)\n",
    "print (float (result_ch[0]))"
   ]
  },
  {
   "cell_type": "code",
   "execution_count": 46,
   "id": "5d903b52",
   "metadata": {},
   "outputs": [
    {
     "name": "stdout",
     "output_type": "stream",
     "text": [
      "8.0\n"
     ]
    }
   ],
   "source": [
    "# BBVA\n",
    "url=\"https://www.bbva.pe/personas/productos/inversiones/depositos/deposito-plazo.html#tasas-e-intereses\"\n",
    "uclient=urlopen(url)\n",
    "pagehtml=uclient.read()\n",
    "uclient.close()\n",
    "\n",
    "dt_ba = pagehtml.decode()\n",
    "#print(dt_ba)\n",
    "#print(type(dt_ba))\n",
    "result_ba = re.findall('Hasta (\\d)%', dt_ba)\n",
    "print (float (result_ba[0]))"
   ]
  },
  {
   "cell_type": "code",
   "execution_count": 78,
   "id": "3027c25f",
   "metadata": {},
   "outputs": [],
   "source": [
    "trea=[float(result_sc[0]),float(result_ch[0]),float(result_ba[0])]\n",
    "Dep_Fijo={\"Entidad\":[\"Scotiabank\", \"Caja Huancayo\", \"BBVA\"], \"TREA %\" :trea }\n",
    "DFF=pd.DataFrame(Dep_Fijo)"
   ]
  },
  {
   "cell_type": "code",
   "execution_count": 87,
   "id": "cc67dc99",
   "metadata": {},
   "outputs": [],
   "source": [
    "DFF_ord=DFF.sort_values(by=['TREA %'])"
   ]
  },
  {
   "cell_type": "code",
   "execution_count": 89,
   "id": "ed66690f",
   "metadata": {},
   "outputs": [
    {
     "data": {
      "text/html": [
       "<div>\n",
       "<style scoped>\n",
       "    .dataframe tbody tr th:only-of-type {\n",
       "        vertical-align: middle;\n",
       "    }\n",
       "\n",
       "    .dataframe tbody tr th {\n",
       "        vertical-align: top;\n",
       "    }\n",
       "\n",
       "    .dataframe thead th {\n",
       "        text-align: right;\n",
       "    }\n",
       "</style>\n",
       "<table border=\"1\" class=\"dataframe\">\n",
       "  <thead>\n",
       "    <tr style=\"text-align: right;\">\n",
       "      <th></th>\n",
       "      <th>Entidad</th>\n",
       "      <th>TREA %</th>\n",
       "    </tr>\n",
       "  </thead>\n",
       "  <tbody>\n",
       "    <tr>\n",
       "      <th>0</th>\n",
       "      <td>Scotiabank</td>\n",
       "      <td>8.10</td>\n",
       "    </tr>\n",
       "    <tr>\n",
       "      <th>1</th>\n",
       "      <td>Caja Huancayo</td>\n",
       "      <td>8.75</td>\n",
       "    </tr>\n",
       "    <tr>\n",
       "      <th>2</th>\n",
       "      <td>BBVA</td>\n",
       "      <td>8.00</td>\n",
       "    </tr>\n",
       "  </tbody>\n",
       "</table>\n",
       "</div>"
      ],
      "text/plain": [
       "         Entidad  TREA %\n",
       "0     Scotiabank    8.10\n",
       "1  Caja Huancayo    8.75\n",
       "2           BBVA    8.00"
      ]
     },
     "execution_count": 89,
     "metadata": {},
     "output_type": "execute_result"
    }
   ],
   "source": [
    "DFF"
   ]
  },
  {
   "cell_type": "code",
   "execution_count": 88,
   "id": "7135de49",
   "metadata": {},
   "outputs": [
    {
     "data": {
      "text/html": [
       "<div>\n",
       "<style scoped>\n",
       "    .dataframe tbody tr th:only-of-type {\n",
       "        vertical-align: middle;\n",
       "    }\n",
       "\n",
       "    .dataframe tbody tr th {\n",
       "        vertical-align: top;\n",
       "    }\n",
       "\n",
       "    .dataframe thead th {\n",
       "        text-align: right;\n",
       "    }\n",
       "</style>\n",
       "<table border=\"1\" class=\"dataframe\">\n",
       "  <thead>\n",
       "    <tr style=\"text-align: right;\">\n",
       "      <th></th>\n",
       "      <th>Entidad</th>\n",
       "      <th>TREA %</th>\n",
       "    </tr>\n",
       "  </thead>\n",
       "  <tbody>\n",
       "    <tr>\n",
       "      <th>2</th>\n",
       "      <td>BBVA</td>\n",
       "      <td>8.00</td>\n",
       "    </tr>\n",
       "    <tr>\n",
       "      <th>0</th>\n",
       "      <td>Scotiabank</td>\n",
       "      <td>8.10</td>\n",
       "    </tr>\n",
       "    <tr>\n",
       "      <th>1</th>\n",
       "      <td>Caja Huancayo</td>\n",
       "      <td>8.75</td>\n",
       "    </tr>\n",
       "  </tbody>\n",
       "</table>\n",
       "</div>"
      ],
      "text/plain": [
       "         Entidad  TREA %\n",
       "2           BBVA    8.00\n",
       "0     Scotiabank    8.10\n",
       "1  Caja Huancayo    8.75"
      ]
     },
     "execution_count": 88,
     "metadata": {},
     "output_type": "execute_result"
    }
   ],
   "source": [
    "DFF_ord"
   ]
  },
  {
   "cell_type": "code",
   "execution_count": 95,
   "id": "e7448812",
   "metadata": {},
   "outputs": [
    {
     "name": "stdout",
     "output_type": "stream",
     "text": [
      "Entidad    Caja Huancayo\n",
      "TREA %              8.75\n",
      "Name: 1, dtype: object\n"
     ]
    }
   ],
   "source": [
    "print(DFF_ord.iloc[-1])"
   ]
  },
  {
   "cell_type": "code",
   "execution_count": 101,
   "id": "275fa1e2",
   "metadata": {},
   "outputs": [
    {
     "data": {
      "text/plain": [
       "float"
      ]
     },
     "execution_count": 101,
     "metadata": {},
     "output_type": "execute_result"
    }
   ],
   "source": [
    "type(float(DFF_ord.iloc[0].iloc[1]))"
   ]
  },
  {
   "cell_type": "code",
   "execution_count": 71,
   "id": "4268ce28",
   "metadata": {},
   "outputs": [],
   "source": [
    "DFF\n",
    "DFF.to_csv('Dep_f.csv', sep = \";\" , encoding = \"utf-8\", index=False)"
   ]
  },
  {
   "cell_type": "code",
   "execution_count": null,
   "id": "c52fde15",
   "metadata": {},
   "outputs": [],
   "source": []
  }
 ],
 "metadata": {
  "kernelspec": {
   "display_name": "Python 3 (ipykernel)",
   "language": "python",
   "name": "python3"
  },
  "language_info": {
   "codemirror_mode": {
    "name": "ipython",
    "version": 3
   },
   "file_extension": ".py",
   "mimetype": "text/x-python",
   "name": "python",
   "nbconvert_exporter": "python",
   "pygments_lexer": "ipython3",
   "version": "3.9.13"
  }
 },
 "nbformat": 4,
 "nbformat_minor": 5
}
